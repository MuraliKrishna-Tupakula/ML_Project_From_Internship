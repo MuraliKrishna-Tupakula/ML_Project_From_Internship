{
 "cells": [
  {
   "cell_type": "markdown",
   "id": "a85bcdc0",
   "metadata": {},
   "source": [
    "### Bitcoin price prediction "
   ]
  },
  {
   "cell_type": "markdown",
   "id": "92ad0c2d",
   "metadata": {},
   "source": [
    "#### importing librarys "
   ]
  },
  {
   "cell_type": "markdown",
   "id": "225ad030",
   "metadata": {},
   "source": [
    "#### The price of bitcoin and several other leading cryptocurrencies have been on a downward trajectory in 2022. \n",
    "\n",
    "Rising inflation and interest rates have caused cryptocurrency to fall along with stocks and shares\n",
    "\n",
    "as investors dial down the level of risk they are taking on."
   ]
  },
  {
   "cell_type": "code",
   "execution_count": 1,
   "id": "a77293d8",
   "metadata": {},
   "outputs": [],
   "source": [
    "import numpy as np\n",
    "import pandas as pd\n",
    "\n"
   ]
  },
  {
   "cell_type": "markdown",
   "id": "21df1ffb",
   "metadata": {},
   "source": [
    "#### Importing dataset"
   ]
  },
  {
   "cell_type": "code",
   "execution_count": 2,
   "id": "95d8ad6b",
   "metadata": {},
   "outputs": [
    {
     "data": {
      "text/html": [
       "<div>\n",
       "<style scoped>\n",
       "    .dataframe tbody tr th:only-of-type {\n",
       "        vertical-align: middle;\n",
       "    }\n",
       "\n",
       "    .dataframe tbody tr th {\n",
       "        vertical-align: top;\n",
       "    }\n",
       "\n",
       "    .dataframe thead th {\n",
       "        text-align: right;\n",
       "    }\n",
       "</style>\n",
       "<table border=\"1\" class=\"dataframe\">\n",
       "  <thead>\n",
       "    <tr style=\"text-align: right;\">\n",
       "      <th></th>\n",
       "      <th>Timestamp</th>\n",
       "      <th>Open</th>\n",
       "      <th>High</th>\n",
       "      <th>Low</th>\n",
       "      <th>Close</th>\n",
       "      <th>Volume_(BTC)</th>\n",
       "      <th>Volume_(Currency)</th>\n",
       "      <th>Weighted_Price</th>\n",
       "    </tr>\n",
       "  </thead>\n",
       "  <tbody>\n",
       "    <tr>\n",
       "      <th>0</th>\n",
       "      <td>1417411980</td>\n",
       "      <td>300.00</td>\n",
       "      <td>300.00</td>\n",
       "      <td>300.00</td>\n",
       "      <td>300.00</td>\n",
       "      <td>0.010000</td>\n",
       "      <td>3.000000</td>\n",
       "      <td>300.000000</td>\n",
       "    </tr>\n",
       "    <tr>\n",
       "      <th>1</th>\n",
       "      <td>1417412040</td>\n",
       "      <td>NaN</td>\n",
       "      <td>NaN</td>\n",
       "      <td>NaN</td>\n",
       "      <td>NaN</td>\n",
       "      <td>NaN</td>\n",
       "      <td>NaN</td>\n",
       "      <td>NaN</td>\n",
       "    </tr>\n",
       "    <tr>\n",
       "      <th>2</th>\n",
       "      <td>1417412100</td>\n",
       "      <td>NaN</td>\n",
       "      <td>NaN</td>\n",
       "      <td>NaN</td>\n",
       "      <td>NaN</td>\n",
       "      <td>NaN</td>\n",
       "      <td>NaN</td>\n",
       "      <td>NaN</td>\n",
       "    </tr>\n",
       "    <tr>\n",
       "      <th>3</th>\n",
       "      <td>1417412160</td>\n",
       "      <td>NaN</td>\n",
       "      <td>NaN</td>\n",
       "      <td>NaN</td>\n",
       "      <td>NaN</td>\n",
       "      <td>NaN</td>\n",
       "      <td>NaN</td>\n",
       "      <td>NaN</td>\n",
       "    </tr>\n",
       "    <tr>\n",
       "      <th>4</th>\n",
       "      <td>1417412220</td>\n",
       "      <td>NaN</td>\n",
       "      <td>NaN</td>\n",
       "      <td>NaN</td>\n",
       "      <td>NaN</td>\n",
       "      <td>NaN</td>\n",
       "      <td>NaN</td>\n",
       "      <td>NaN</td>\n",
       "    </tr>\n",
       "    <tr>\n",
       "      <th>...</th>\n",
       "      <td>...</td>\n",
       "      <td>...</td>\n",
       "      <td>...</td>\n",
       "      <td>...</td>\n",
       "      <td>...</td>\n",
       "      <td>...</td>\n",
       "      <td>...</td>\n",
       "      <td>...</td>\n",
       "    </tr>\n",
       "    <tr>\n",
       "      <th>2099755</th>\n",
       "      <td>1546898520</td>\n",
       "      <td>4006.01</td>\n",
       "      <td>4006.57</td>\n",
       "      <td>4006.00</td>\n",
       "      <td>4006.01</td>\n",
       "      <td>3.382954</td>\n",
       "      <td>13553.433078</td>\n",
       "      <td>4006.390309</td>\n",
       "    </tr>\n",
       "    <tr>\n",
       "      <th>2099756</th>\n",
       "      <td>1546898580</td>\n",
       "      <td>4006.01</td>\n",
       "      <td>4006.57</td>\n",
       "      <td>4006.00</td>\n",
       "      <td>4006.01</td>\n",
       "      <td>0.902164</td>\n",
       "      <td>3614.083168</td>\n",
       "      <td>4006.017232</td>\n",
       "    </tr>\n",
       "    <tr>\n",
       "      <th>2099757</th>\n",
       "      <td>1546898640</td>\n",
       "      <td>4006.01</td>\n",
       "      <td>4006.01</td>\n",
       "      <td>4006.00</td>\n",
       "      <td>4006.01</td>\n",
       "      <td>1.192123</td>\n",
       "      <td>4775.647308</td>\n",
       "      <td>4006.003635</td>\n",
       "    </tr>\n",
       "    <tr>\n",
       "      <th>2099758</th>\n",
       "      <td>1546898700</td>\n",
       "      <td>4006.01</td>\n",
       "      <td>4006.01</td>\n",
       "      <td>4005.50</td>\n",
       "      <td>4005.50</td>\n",
       "      <td>2.699700</td>\n",
       "      <td>10814.241898</td>\n",
       "      <td>4005.719991</td>\n",
       "    </tr>\n",
       "    <tr>\n",
       "      <th>2099759</th>\n",
       "      <td>1546898760</td>\n",
       "      <td>4005.51</td>\n",
       "      <td>4006.01</td>\n",
       "      <td>4005.51</td>\n",
       "      <td>4005.99</td>\n",
       "      <td>1.752778</td>\n",
       "      <td>7021.183546</td>\n",
       "      <td>4005.745614</td>\n",
       "    </tr>\n",
       "  </tbody>\n",
       "</table>\n",
       "<p>2099760 rows × 8 columns</p>\n",
       "</div>"
      ],
      "text/plain": [
       "          Timestamp     Open     High      Low    Close  Volume_(BTC)  \\\n",
       "0        1417411980   300.00   300.00   300.00   300.00      0.010000   \n",
       "1        1417412040      NaN      NaN      NaN      NaN           NaN   \n",
       "2        1417412100      NaN      NaN      NaN      NaN           NaN   \n",
       "3        1417412160      NaN      NaN      NaN      NaN           NaN   \n",
       "4        1417412220      NaN      NaN      NaN      NaN           NaN   \n",
       "...             ...      ...      ...      ...      ...           ...   \n",
       "2099755  1546898520  4006.01  4006.57  4006.00  4006.01      3.382954   \n",
       "2099756  1546898580  4006.01  4006.57  4006.00  4006.01      0.902164   \n",
       "2099757  1546898640  4006.01  4006.01  4006.00  4006.01      1.192123   \n",
       "2099758  1546898700  4006.01  4006.01  4005.50  4005.50      2.699700   \n",
       "2099759  1546898760  4005.51  4006.01  4005.51  4005.99      1.752778   \n",
       "\n",
       "         Volume_(Currency)  Weighted_Price  \n",
       "0                 3.000000      300.000000  \n",
       "1                      NaN             NaN  \n",
       "2                      NaN             NaN  \n",
       "3                      NaN             NaN  \n",
       "4                      NaN             NaN  \n",
       "...                    ...             ...  \n",
       "2099755       13553.433078     4006.390309  \n",
       "2099756        3614.083168     4006.017232  \n",
       "2099757        4775.647308     4006.003635  \n",
       "2099758       10814.241898     4005.719991  \n",
       "2099759        7021.183546     4005.745614  \n",
       "\n",
       "[2099760 rows x 8 columns]"
      ]
     },
     "execution_count": 2,
     "metadata": {},
     "output_type": "execute_result"
    }
   ],
   "source": [
    "bit_coin=pd.read_csv(\"Bitcoin.csv\")\n",
    "bit_coin"
   ]
  },
  {
   "cell_type": "code",
   "execution_count": 3,
   "id": "299a5282",
   "metadata": {},
   "outputs": [
    {
     "name": "stdout",
     "output_type": "stream",
     "text": [
      "<class 'pandas.core.frame.DataFrame'>\n",
      "RangeIndex: 2099760 entries, 0 to 2099759\n",
      "Data columns (total 8 columns):\n",
      " #   Column             Dtype  \n",
      "---  ------             -----  \n",
      " 0   Timestamp          int64  \n",
      " 1   Open               float64\n",
      " 2   High               float64\n",
      " 3   Low                float64\n",
      " 4   Close              float64\n",
      " 5   Volume_(BTC)       float64\n",
      " 6   Volume_(Currency)  float64\n",
      " 7   Weighted_Price     float64\n",
      "dtypes: float64(7), int64(1)\n",
      "memory usage: 128.2 MB\n"
     ]
    }
   ],
   "source": [
    "bit_coin.info()"
   ]
  },
  {
   "cell_type": "code",
   "execution_count": 4,
   "id": "6eaa553b",
   "metadata": {},
   "outputs": [
    {
     "data": {
      "text/plain": [
       "Timestamp                 0\n",
       "Open                 109069\n",
       "High                 109069\n",
       "Low                  109069\n",
       "Close                109069\n",
       "Volume_(BTC)         109069\n",
       "Volume_(Currency)    109069\n",
       "Weighted_Price       109069\n",
       "dtype: int64"
      ]
     },
     "execution_count": 4,
     "metadata": {},
     "output_type": "execute_result"
    }
   ],
   "source": [
    "bit_coin.isnull().sum()"
   ]
  },
  {
   "cell_type": "markdown",
   "id": "cb239477",
   "metadata": {},
   "source": [
    "### Imputation  "
   ]
  },
  {
   "cell_type": "code",
   "execution_count": 5,
   "id": "abde010f",
   "metadata": {},
   "outputs": [],
   "source": [
    "bit_coin['Open']=bit_coin['Open'].mean()"
   ]
  },
  {
   "cell_type": "code",
   "execution_count": 6,
   "id": "8e0f288b",
   "metadata": {},
   "outputs": [],
   "source": [
    "bit_coin['High']=bit_coin['High'].mean()\n",
    "bit_coin['Low']=bit_coin['Low'].mean()\n",
    "bit_coin['Close']=bit_coin['Close'].mean()\n",
    "bit_coin['Volume_(BTC)']=bit_coin['Volume_(BTC)'].mean()\n",
    "bit_coin['Volume_(Currency)']=bit_coin['Volume_(Currency)'].mean()\n",
    "bit_coin['Weighted_Price']=bit_coin['Weighted_Price'].mean()\n"
   ]
  },
  {
   "cell_type": "code",
   "execution_count": 7,
   "id": "b20eb70d",
   "metadata": {},
   "outputs": [
    {
     "data": {
      "text/html": [
       "<div>\n",
       "<style scoped>\n",
       "    .dataframe tbody tr th:only-of-type {\n",
       "        vertical-align: middle;\n",
       "    }\n",
       "\n",
       "    .dataframe tbody tr th {\n",
       "        vertical-align: top;\n",
       "    }\n",
       "\n",
       "    .dataframe thead th {\n",
       "        text-align: right;\n",
       "    }\n",
       "</style>\n",
       "<table border=\"1\" class=\"dataframe\">\n",
       "  <thead>\n",
       "    <tr style=\"text-align: right;\">\n",
       "      <th></th>\n",
       "      <th>Timestamp</th>\n",
       "      <th>Open</th>\n",
       "      <th>High</th>\n",
       "      <th>Low</th>\n",
       "      <th>Close</th>\n",
       "      <th>Volume_(BTC)</th>\n",
       "      <th>Volume_(Currency)</th>\n",
       "      <th>Weighted_Price</th>\n",
       "    </tr>\n",
       "  </thead>\n",
       "  <tbody>\n",
       "    <tr>\n",
       "      <th>0</th>\n",
       "      <td>1417411980</td>\n",
       "      <td>3246.402566</td>\n",
       "      <td>3247.829438</td>\n",
       "      <td>3244.856123</td>\n",
       "      <td>3246.40252</td>\n",
       "      <td>7.849139</td>\n",
       "      <td>36001.57412</td>\n",
       "      <td>3246.340716</td>\n",
       "    </tr>\n",
       "    <tr>\n",
       "      <th>1</th>\n",
       "      <td>1417412040</td>\n",
       "      <td>3246.402566</td>\n",
       "      <td>3247.829438</td>\n",
       "      <td>3244.856123</td>\n",
       "      <td>3246.40252</td>\n",
       "      <td>7.849139</td>\n",
       "      <td>36001.57412</td>\n",
       "      <td>3246.340716</td>\n",
       "    </tr>\n",
       "    <tr>\n",
       "      <th>2</th>\n",
       "      <td>1417412100</td>\n",
       "      <td>3246.402566</td>\n",
       "      <td>3247.829438</td>\n",
       "      <td>3244.856123</td>\n",
       "      <td>3246.40252</td>\n",
       "      <td>7.849139</td>\n",
       "      <td>36001.57412</td>\n",
       "      <td>3246.340716</td>\n",
       "    </tr>\n",
       "    <tr>\n",
       "      <th>3</th>\n",
       "      <td>1417412160</td>\n",
       "      <td>3246.402566</td>\n",
       "      <td>3247.829438</td>\n",
       "      <td>3244.856123</td>\n",
       "      <td>3246.40252</td>\n",
       "      <td>7.849139</td>\n",
       "      <td>36001.57412</td>\n",
       "      <td>3246.340716</td>\n",
       "    </tr>\n",
       "    <tr>\n",
       "      <th>4</th>\n",
       "      <td>1417412220</td>\n",
       "      <td>3246.402566</td>\n",
       "      <td>3247.829438</td>\n",
       "      <td>3244.856123</td>\n",
       "      <td>3246.40252</td>\n",
       "      <td>7.849139</td>\n",
       "      <td>36001.57412</td>\n",
       "      <td>3246.340716</td>\n",
       "    </tr>\n",
       "    <tr>\n",
       "      <th>...</th>\n",
       "      <td>...</td>\n",
       "      <td>...</td>\n",
       "      <td>...</td>\n",
       "      <td>...</td>\n",
       "      <td>...</td>\n",
       "      <td>...</td>\n",
       "      <td>...</td>\n",
       "      <td>...</td>\n",
       "    </tr>\n",
       "    <tr>\n",
       "      <th>2099755</th>\n",
       "      <td>1546898520</td>\n",
       "      <td>3246.402566</td>\n",
       "      <td>3247.829438</td>\n",
       "      <td>3244.856123</td>\n",
       "      <td>3246.40252</td>\n",
       "      <td>7.849139</td>\n",
       "      <td>36001.57412</td>\n",
       "      <td>3246.340716</td>\n",
       "    </tr>\n",
       "    <tr>\n",
       "      <th>2099756</th>\n",
       "      <td>1546898580</td>\n",
       "      <td>3246.402566</td>\n",
       "      <td>3247.829438</td>\n",
       "      <td>3244.856123</td>\n",
       "      <td>3246.40252</td>\n",
       "      <td>7.849139</td>\n",
       "      <td>36001.57412</td>\n",
       "      <td>3246.340716</td>\n",
       "    </tr>\n",
       "    <tr>\n",
       "      <th>2099757</th>\n",
       "      <td>1546898640</td>\n",
       "      <td>3246.402566</td>\n",
       "      <td>3247.829438</td>\n",
       "      <td>3244.856123</td>\n",
       "      <td>3246.40252</td>\n",
       "      <td>7.849139</td>\n",
       "      <td>36001.57412</td>\n",
       "      <td>3246.340716</td>\n",
       "    </tr>\n",
       "    <tr>\n",
       "      <th>2099758</th>\n",
       "      <td>1546898700</td>\n",
       "      <td>3246.402566</td>\n",
       "      <td>3247.829438</td>\n",
       "      <td>3244.856123</td>\n",
       "      <td>3246.40252</td>\n",
       "      <td>7.849139</td>\n",
       "      <td>36001.57412</td>\n",
       "      <td>3246.340716</td>\n",
       "    </tr>\n",
       "    <tr>\n",
       "      <th>2099759</th>\n",
       "      <td>1546898760</td>\n",
       "      <td>3246.402566</td>\n",
       "      <td>3247.829438</td>\n",
       "      <td>3244.856123</td>\n",
       "      <td>3246.40252</td>\n",
       "      <td>7.849139</td>\n",
       "      <td>36001.57412</td>\n",
       "      <td>3246.340716</td>\n",
       "    </tr>\n",
       "  </tbody>\n",
       "</table>\n",
       "<p>2099760 rows × 8 columns</p>\n",
       "</div>"
      ],
      "text/plain": [
       "          Timestamp         Open         High          Low       Close  \\\n",
       "0        1417411980  3246.402566  3247.829438  3244.856123  3246.40252   \n",
       "1        1417412040  3246.402566  3247.829438  3244.856123  3246.40252   \n",
       "2        1417412100  3246.402566  3247.829438  3244.856123  3246.40252   \n",
       "3        1417412160  3246.402566  3247.829438  3244.856123  3246.40252   \n",
       "4        1417412220  3246.402566  3247.829438  3244.856123  3246.40252   \n",
       "...             ...          ...          ...          ...         ...   \n",
       "2099755  1546898520  3246.402566  3247.829438  3244.856123  3246.40252   \n",
       "2099756  1546898580  3246.402566  3247.829438  3244.856123  3246.40252   \n",
       "2099757  1546898640  3246.402566  3247.829438  3244.856123  3246.40252   \n",
       "2099758  1546898700  3246.402566  3247.829438  3244.856123  3246.40252   \n",
       "2099759  1546898760  3246.402566  3247.829438  3244.856123  3246.40252   \n",
       "\n",
       "         Volume_(BTC)  Volume_(Currency)  Weighted_Price  \n",
       "0            7.849139        36001.57412     3246.340716  \n",
       "1            7.849139        36001.57412     3246.340716  \n",
       "2            7.849139        36001.57412     3246.340716  \n",
       "3            7.849139        36001.57412     3246.340716  \n",
       "4            7.849139        36001.57412     3246.340716  \n",
       "...               ...                ...             ...  \n",
       "2099755      7.849139        36001.57412     3246.340716  \n",
       "2099756      7.849139        36001.57412     3246.340716  \n",
       "2099757      7.849139        36001.57412     3246.340716  \n",
       "2099758      7.849139        36001.57412     3246.340716  \n",
       "2099759      7.849139        36001.57412     3246.340716  \n",
       "\n",
       "[2099760 rows x 8 columns]"
      ]
     },
     "execution_count": 7,
     "metadata": {},
     "output_type": "execute_result"
    }
   ],
   "source": [
    "bit_coin"
   ]
  },
  {
   "cell_type": "code",
   "execution_count": 8,
   "id": "8e9960a8",
   "metadata": {},
   "outputs": [
    {
     "data": {
      "text/plain": [
       "3246.340716    2099760\n",
       "Name: Weighted_Price, dtype: int64"
      ]
     },
     "execution_count": 8,
     "metadata": {},
     "output_type": "execute_result"
    }
   ],
   "source": [
    "bit_coin['Weighted_Price'].value_counts()"
   ]
  },
  {
   "cell_type": "code",
   "execution_count": 9,
   "id": "5c84305d",
   "metadata": {},
   "outputs": [
    {
     "data": {
      "text/plain": [
       "Index(['Timestamp', 'Open', 'High', 'Low', 'Close', 'Volume_(BTC)',\n",
       "       'Volume_(Currency)', 'Weighted_Price'],\n",
       "      dtype='object')"
      ]
     },
     "execution_count": 9,
     "metadata": {},
     "output_type": "execute_result"
    }
   ],
   "source": [
    "bit_coin.columns"
   ]
  },
  {
   "cell_type": "markdown",
   "id": "4c89f76a",
   "metadata": {},
   "source": [
    "##### Exploring the data "
   ]
  },
  {
   "cell_type": "code",
   "execution_count": 10,
   "id": "6ffbd46b",
   "metadata": {
    "scrolled": true
   },
   "outputs": [
    {
     "name": "stdout",
     "output_type": "stream",
     "text": [
      "UNIQUE VALUES ARE : [1417411980 1417412040 1417412100 ... 1546898640 1546898700 1546898760] \n",
      "\n",
      "LENGTH IS : 2099760\n",
      "\n",
      "VALUE COUNTS ARE : 1417411980    1\n",
      "1504913820    1\n",
      "1504904100    1\n",
      "1504904040    1\n",
      "1504903980    1\n",
      "             ..\n",
      "1462908120    1\n",
      "1462908060    1\n",
      "1462908000    1\n",
      "1462907940    1\n",
      "1546898760    1\n",
      "Name: Timestamp, Length: 2099760, dtype: int64\n",
      "<<<-------------******--------------->>>\n",
      "UNIQUE VALUES ARE : [3246.40256594] \n",
      "\n",
      "LENGTH IS : 2099760\n",
      "\n",
      "VALUE COUNTS ARE : 3246.402566    2099760\n",
      "Name: Open, dtype: int64\n",
      "<<<-------------******--------------->>>\n",
      "UNIQUE VALUES ARE : [3247.82943823] \n",
      "\n",
      "LENGTH IS : 2099760\n",
      "\n",
      "VALUE COUNTS ARE : 3247.829438    2099760\n",
      "Name: High, dtype: int64\n",
      "<<<-------------******--------------->>>\n",
      "UNIQUE VALUES ARE : [3244.85612322] \n",
      "\n",
      "LENGTH IS : 2099760\n",
      "\n",
      "VALUE COUNTS ARE : 3244.856123    2099760\n",
      "Name: Low, dtype: int64\n",
      "<<<-------------******--------------->>>\n",
      "UNIQUE VALUES ARE : [3246.40251975] \n",
      "\n",
      "LENGTH IS : 2099760\n",
      "\n",
      "VALUE COUNTS ARE : 3246.40252    2099760\n",
      "Name: Close, dtype: int64\n",
      "<<<-------------******--------------->>>\n",
      "UNIQUE VALUES ARE : [7.84913936] \n",
      "\n",
      "LENGTH IS : 2099760\n",
      "\n",
      "VALUE COUNTS ARE : 7.849139    2099760\n",
      "Name: Volume_(BTC), dtype: int64\n",
      "<<<-------------******--------------->>>\n",
      "UNIQUE VALUES ARE : [36001.57411962] \n",
      "\n",
      "LENGTH IS : 2099760\n",
      "\n",
      "VALUE COUNTS ARE : 36001.57412    2099760\n",
      "Name: Volume_(Currency), dtype: int64\n",
      "<<<-------------******--------------->>>\n",
      "UNIQUE VALUES ARE : [3246.34071571] \n",
      "\n",
      "LENGTH IS : 2099760\n",
      "\n",
      "VALUE COUNTS ARE : 3246.340716    2099760\n",
      "Name: Weighted_Price, dtype: int64\n",
      "<<<-------------******--------------->>>\n"
     ]
    }
   ],
   "source": [
    "columns=bit_coin.columns\n",
    "col=np.array(columns)\n",
    "for i in col:\n",
    "    print(\"UNIQUE VALUES ARE :\",bit_coin[i].unique(),\"\\n\")\n",
    "    print(\"LENGTH IS :\",len(bit_coin[i\n",
    "                                             ]))\n",
    "    print(\"\\nVALUE COUNTS ARE :\",bit_coin[i].value_counts())\n",
    "    print(\"<<<-------------******--------------->>>\")"
   ]
  },
  {
   "cell_type": "markdown",
   "id": "e2571a6d",
   "metadata": {},
   "source": [
    "#### Datavisualization "
   ]
  },
  {
   "cell_type": "markdown",
   "id": "0587082e",
   "metadata": {},
   "source": [
    "##### histplots between the columns "
   ]
  },
  {
   "cell_type": "code",
   "execution_count": 11,
   "id": "a3681c9e",
   "metadata": {},
   "outputs": [
    {
     "data": {
      "text/plain": [
       "<seaborn.axisgrid.PairGrid at 0x1e109e5ff70>"
      ]
     },
     "execution_count": 11,
     "metadata": {},
     "output_type": "execute_result"
    },
    {
     "data": {
      "image/png": "[encoded data removed]",
      "text/plain": [
       "<Figure size 1440x1440 with 72 Axes>"
      ]
     },
     "metadata": {
      "needs_background": "light"
     },
     "output_type": "display_data"
    }
   ],
   "source": [
    "import matplotlib.pyplot as plt\n",
    "import seaborn as sns\n",
    "sns.pairplot(bit_coin)"
   ]
  },
  {
   "cell_type": "code",
   "execution_count": 12,
   "id": "8ae31c53",
   "metadata": {},
   "outputs": [
    {
     "data": {
      "image/png": "[encoded data removed]",
      "text/plain": [
       "<Figure size 432x288 with 9 Axes>"
      ]
     },
     "metadata": {
      "needs_background": "light"
     },
     "output_type": "display_data"
    }
   ],
   "source": [
    "bit_coin.hist()\n",
    "plt.show()"
   ]
  },
  {
   "cell_type": "code",
   "execution_count": 13,
   "id": "4186bef5",
   "metadata": {
    "scrolled": true
   },
   "outputs": [
    {
     "data": {
      "image/png": "[encoded data removed]",
      "text/plain": [
       "<Figure size 432x288 with 1 Axes>"
      ]
     },
     "metadata": {
      "needs_background": "light"
     },
     "output_type": "display_data"
    },
    {
     "data": {
      "image/png": "[encoded data removed]",
      "text/plain": [
       "<Figure size 432x288 with 1 Axes>"
      ]
     },
     "metadata": {
      "needs_background": "light"
     },
     "output_type": "display_data"
    },
    {
     "data": {
      "image/png": "[encoded data removed]",
      "text/plain": [
       "<Figure size 432x288 with 1 Axes>"
      ]
     },
     "metadata": {
      "needs_background": "light"
     },
     "output_type": "display_data"
    },
    {
     "data": {
      "image/png": "[encoded data removed]",
      "text/plain": [
       "<Figure size 432x288 with 1 Axes>"
      ]
     },
     "metadata": {
      "needs_background": "light"
     },
     "output_type": "display_data"
    },
    {
     "data": {
      "image/png": "[encoded data removed]",
      "text/plain": [
       "<Figure size 432x288 with 1 Axes>"
      ]
     },
     "metadata": {
      "needs_background": "light"
     },
     "output_type": "display_data"
    },
    {
     "data": {
      "image/png": "[encoded data removed]",
      "text/plain": [
       "<Figure size 432x288 with 1 Axes>"
      ]
     },
     "metadata": {
      "needs_background": "light"
     },
     "output_type": "display_data"
    },
    {
     "data": {
      "image/png": "[encoded data removed]",
      "text/plain": [
       "<Figure size 432x288 with 1 Axes>"
      ]
     },
     "metadata": {
      "needs_background": "light"
     },
     "output_type": "display_data"
    }
   ],
   "source": [
    "import matplotlib.pyplot as plt\n",
    "import seaborn as sns\n",
    "for i in range(1,len(bit_coin.columns)):\n",
    "    sns.histplot(bit_coin[columns[i]])\n",
    "    plt.title(columns[i])\n",
    "    plt.show()"
   ]
  },
  {
   "cell_type": "markdown",
   "id": "147453a1",
   "metadata": {},
   "source": [
    "##### Identifying the outliers "
   ]
  },
  {
   "cell_type": "code",
   "execution_count": 14,
   "id": "c835a61c",
   "metadata": {},
   "outputs": [
    {
     "name": "stderr",
     "output_type": "stream",
     "text": [
      "D:\\anaconda\\anaconda\\lib\\site-packages\\seaborn\\_decorators.py:36: FutureWarning: Pass the following variable as a keyword arg: x. From version 0.12, the only valid positional argument will be `data`, and passing other arguments without an explicit keyword will result in an error or misinterpretation.\n",
      "  warnings.warn(\n"
     ]
    },
    {
     "data": {
      "image/png": "[encoded data removed]",
      "text/plain": [
       "<Figure size 432x288 with 1 Axes>"
      ]
     },
     "metadata": {
      "needs_background": "light"
     },
     "output_type": "display_data"
    },
    {
     "name": "stderr",
     "output_type": "stream",
     "text": [
      "D:\\anaconda\\anaconda\\lib\\site-packages\\seaborn\\_decorators.py:36: FutureWarning: Pass the following variable as a keyword arg: x. From version 0.12, the only valid positional argument will be `data`, and passing other arguments without an explicit keyword will result in an error or misinterpretation.\n",
      "  warnings.warn(\n"
     ]
    },
    {
     "data": {
      "image/png": "[encoded data removed]",
      "text/plain": [
       "<Figure size 432x288 with 1 Axes>"
      ]
     },
     "metadata": {
      "needs_background": "light"
     },
     "output_type": "display_data"
    },
    {
     "name": "stderr",
     "output_type": "stream",
     "text": [
      "D:\\anaconda\\anaconda\\lib\\site-packages\\seaborn\\_decorators.py:36: FutureWarning: Pass the following variable as a keyword arg: x. From version 0.12, the only valid positional argument will be `data`, and passing other arguments without an explicit keyword will result in an error or misinterpretation.\n",
      "  warnings.warn(\n"
     ]
    },
    {
     "data": {
      "image/png": "[encoded data removed]",
      "text/plain": [
       "<Figure size 432x288 with 1 Axes>"
      ]
     },
     "metadata": {
      "needs_background": "light"
     },
     "output_type": "display_data"
    },
    {
     "name": "stderr",
     "output_type": "stream",
     "text": [
      "D:\\anaconda\\anaconda\\lib\\site-packages\\seaborn\\_decorators.py:36: FutureWarning: Pass the following variable as a keyword arg: x. From version 0.12, the only valid positional argument will be `data`, and passing other arguments without an explicit keyword will result in an error or misinterpretation.\n",
      "  warnings.warn(\n"
     ]
    },
    {
     "data": {
      "image/png": "[encoded data removed]",
      "text/plain": [
       "<Figure size 432x288 with 1 Axes>"
      ]
     },
     "metadata": {
      "needs_background": "light"
     },
     "output_type": "display_data"
    },
    {
     "name": "stderr",
     "output_type": "stream",
     "text": [
      "D:\\anaconda\\anaconda\\lib\\site-packages\\seaborn\\_decorators.py:36: FutureWarning: Pass the following variable as a keyword arg: x. From version 0.12, the only valid positional argument will be `data`, and passing other arguments without an explicit keyword will result in an error or misinterpretation.\n",
      "  warnings.warn(\n"
     ]
    },
    {
     "data": {
      "image/png": "[encoded data removed]",
      "text/plain": [
       "<Figure size 432x288 with 1 Axes>"
      ]
     },
     "metadata": {
      "needs_background": "light"
     },
     "output_type": "display_data"
    },
    {
     "name": "stderr",
     "output_type": "stream",
     "text": [
      "D:\\anaconda\\anaconda\\lib\\site-packages\\seaborn\\_decorators.py:36: FutureWarning: Pass the following variable as a keyword arg: x. From version 0.12, the only valid positional argument will be `data`, and passing other arguments without an explicit keyword will result in an error or misinterpretation.\n",
      "  warnings.warn(\n"
     ]
    },
    {
     "data": {
      "image/png": "[encoded data removed]",
      "text/plain": [
       "<Figure size 432x288 with 1 Axes>"
      ]
     },
     "metadata": {
      "needs_background": "light"
     },
     "output_type": "display_data"
    },
    {
     "name": "stderr",
     "output_type": "stream",
     "text": [
      "D:\\anaconda\\anaconda\\lib\\site-packages\\seaborn\\_decorators.py:36: FutureWarning: Pass the following variable as a keyword arg: x. From version 0.12, the only valid positional argument will be `data`, and passing other arguments without an explicit keyword will result in an error or misinterpretation.\n",
      "  warnings.warn(\n"
     ]
    },
    {
     "data": {
      "image/png": "[encoded data removed]",
      "text/plain": [
       "<Figure size 432x288 with 1 Axes>"
      ]
     },
     "metadata": {
      "needs_background": "light"
     },
     "output_type": "display_data"
    },
    {
     "name": "stderr",
     "output_type": "stream",
     "text": [
      "D:\\anaconda\\anaconda\\lib\\site-packages\\seaborn\\_decorators.py:36: FutureWarning: Pass the following variable as a keyword arg: x. From version 0.12, the only valid positional argument will be `data`, and passing other arguments without an explicit keyword will result in an error or misinterpretation.\n",
      "  warnings.warn(\n"
     ]
    },
    {
     "data": {
      "image/png": "[encoded data removed]",
      "text/plain": [
       "<Figure size 432x288 with 1 Axes>"
      ]
     },
     "metadata": {
      "needs_background": "light"
     },
     "output_type": "display_data"
    }
   ],
   "source": [
    "import seaborn as sns\n",
    "for i in range(len(bit_coin.columns)):\n",
    "    sns.boxplot(bit_coin[bit_coin.columns[i]])\n",
    "    plt.title(bit_coin.columns[i])\n",
    "    plt.show()"
   ]
  },
  {
   "cell_type": "code",
   "execution_count": null,
   "id": "e0ee6e7a",
   "metadata": {},
   "outputs": [],
   "source": []
  },
  {
   "cell_type": "markdown",
   "id": "ad19732c",
   "metadata": {},
   "source": [
    "##### Dividing the Data "
   ]
  },
  {
   "cell_type": "code",
   "execution_count": 15,
   "id": "4e9a6c63",
   "metadata": {},
   "outputs": [],
   "source": [
    "X=bit_coin.iloc[:,:-1]"
   ]
  },
  {
   "cell_type": "code",
   "execution_count": 16,
   "id": "ec28f871",
   "metadata": {},
   "outputs": [
    {
     "data": {
      "text/html": [
       "<div>\n",
       "<style scoped>\n",
       "    .dataframe tbody tr th:only-of-type {\n",
       "        vertical-align: middle;\n",
       "    }\n",
       "\n",
       "    .dataframe tbody tr th {\n",
       "        vertical-align: top;\n",
       "    }\n",
       "\n",
       "    .dataframe thead th {\n",
       "        text-align: right;\n",
       "    }\n",
       "</style>\n",
       "<table border=\"1\" class=\"dataframe\">\n",
       "  <thead>\n",
       "    <tr style=\"text-align: right;\">\n",
       "      <th></th>\n",
       "      <th>Timestamp</th>\n",
       "      <th>Open</th>\n",
       "      <th>High</th>\n",
       "      <th>Low</th>\n",
       "      <th>Close</th>\n",
       "      <th>Volume_(BTC)</th>\n",
       "      <th>Volume_(Currency)</th>\n",
       "    </tr>\n",
       "  </thead>\n",
       "  <tbody>\n",
       "    <tr>\n",
       "      <th>0</th>\n",
       "      <td>1417411980</td>\n",
       "      <td>3246.402566</td>\n",
       "      <td>3247.829438</td>\n",
       "      <td>3244.856123</td>\n",
       "      <td>3246.40252</td>\n",
       "      <td>7.849139</td>\n",
       "      <td>36001.57412</td>\n",
       "    </tr>\n",
       "    <tr>\n",
       "      <th>1</th>\n",
       "      <td>1417412040</td>\n",
       "      <td>3246.402566</td>\n",
       "      <td>3247.829438</td>\n",
       "      <td>3244.856123</td>\n",
       "      <td>3246.40252</td>\n",
       "      <td>7.849139</td>\n",
       "      <td>36001.57412</td>\n",
       "    </tr>\n",
       "    <tr>\n",
       "      <th>2</th>\n",
       "      <td>1417412100</td>\n",
       "      <td>3246.402566</td>\n",
       "      <td>3247.829438</td>\n",
       "      <td>3244.856123</td>\n",
       "      <td>3246.40252</td>\n",
       "      <td>7.849139</td>\n",
       "      <td>36001.57412</td>\n",
       "    </tr>\n",
       "    <tr>\n",
       "      <th>3</th>\n",
       "      <td>1417412160</td>\n",
       "      <td>3246.402566</td>\n",
       "      <td>3247.829438</td>\n",
       "      <td>3244.856123</td>\n",
       "      <td>3246.40252</td>\n",
       "      <td>7.849139</td>\n",
       "      <td>36001.57412</td>\n",
       "    </tr>\n",
       "    <tr>\n",
       "      <th>4</th>\n",
       "      <td>1417412220</td>\n",
       "      <td>3246.402566</td>\n",
       "      <td>3247.829438</td>\n",
       "      <td>3244.856123</td>\n",
       "      <td>3246.40252</td>\n",
       "      <td>7.849139</td>\n",
       "      <td>36001.57412</td>\n",
       "    </tr>\n",
       "    <tr>\n",
       "      <th>...</th>\n",
       "      <td>...</td>\n",
       "      <td>...</td>\n",
       "      <td>...</td>\n",
       "      <td>...</td>\n",
       "      <td>...</td>\n",
       "      <td>...</td>\n",
       "      <td>...</td>\n",
       "    </tr>\n",
       "    <tr>\n",
       "      <th>2099755</th>\n",
       "      <td>1546898520</td>\n",
       "      <td>3246.402566</td>\n",
       "      <td>3247.829438</td>\n",
       "      <td>3244.856123</td>\n",
       "      <td>3246.40252</td>\n",
       "      <td>7.849139</td>\n",
       "      <td>36001.57412</td>\n",
       "    </tr>\n",
       "    <tr>\n",
       "      <th>2099756</th>\n",
       "      <td>1546898580</td>\n",
       "      <td>3246.402566</td>\n",
       "      <td>3247.829438</td>\n",
       "      <td>3244.856123</td>\n",
       "      <td>3246.40252</td>\n",
       "      <td>7.849139</td>\n",
       "      <td>36001.57412</td>\n",
       "    </tr>\n",
       "    <tr>\n",
       "      <th>2099757</th>\n",
       "      <td>1546898640</td>\n",
       "      <td>3246.402566</td>\n",
       "      <td>3247.829438</td>\n",
       "      <td>3244.856123</td>\n",
       "      <td>3246.40252</td>\n",
       "      <td>7.849139</td>\n",
       "      <td>36001.57412</td>\n",
       "    </tr>\n",
       "    <tr>\n",
       "      <th>2099758</th>\n",
       "      <td>1546898700</td>\n",
       "      <td>3246.402566</td>\n",
       "      <td>3247.829438</td>\n",
       "      <td>3244.856123</td>\n",
       "      <td>3246.40252</td>\n",
       "      <td>7.849139</td>\n",
       "      <td>36001.57412</td>\n",
       "    </tr>\n",
       "    <tr>\n",
       "      <th>2099759</th>\n",
       "      <td>1546898760</td>\n",
       "      <td>3246.402566</td>\n",
       "      <td>3247.829438</td>\n",
       "      <td>3244.856123</td>\n",
       "      <td>3246.40252</td>\n",
       "      <td>7.849139</td>\n",
       "      <td>36001.57412</td>\n",
       "    </tr>\n",
       "  </tbody>\n",
       "</table>\n",
       "<p>2099760 rows × 7 columns</p>\n",
       "</div>"
      ],
      "text/plain": [
       "          Timestamp         Open         High          Low       Close  \\\n",
       "0        1417411980  3246.402566  3247.829438  3244.856123  3246.40252   \n",
       "1        1417412040  3246.402566  3247.829438  3244.856123  3246.40252   \n",
       "2        1417412100  3246.402566  3247.829438  3244.856123  3246.40252   \n",
       "3        1417412160  3246.402566  3247.829438  3244.856123  3246.40252   \n",
       "4        1417412220  3246.402566  3247.829438  3244.856123  3246.40252   \n",
       "...             ...          ...          ...          ...         ...   \n",
       "2099755  1546898520  3246.402566  3247.829438  3244.856123  3246.40252   \n",
       "2099756  1546898580  3246.402566  3247.829438  3244.856123  3246.40252   \n",
       "2099757  1546898640  3246.402566  3247.829438  3244.856123  3246.40252   \n",
       "2099758  1546898700  3246.402566  3247.829438  3244.856123  3246.40252   \n",
       "2099759  1546898760  3246.402566  3247.829438  3244.856123  3246.40252   \n",
       "\n",
       "         Volume_(BTC)  Volume_(Currency)  \n",
       "0            7.849139        36001.57412  \n",
       "1            7.849139        36001.57412  \n",
       "2            7.849139        36001.57412  \n",
       "3            7.849139        36001.57412  \n",
       "4            7.849139        36001.57412  \n",
       "...               ...                ...  \n",
       "2099755      7.849139        36001.57412  \n",
       "2099756      7.849139        36001.57412  \n",
       "2099757      7.849139        36001.57412  \n",
       "2099758      7.849139        36001.57412  \n",
       "2099759      7.849139        36001.57412  \n",
       "\n",
       "[2099760 rows x 7 columns]"
      ]
     },
     "execution_count": 16,
     "metadata": {},
     "output_type": "execute_result"
    }
   ],
   "source": [
    "X"
   ]
  },
  {
   "cell_type": "code",
   "execution_count": 17,
   "id": "fb1c1224",
   "metadata": {},
   "outputs": [],
   "source": [
    "y=bit_coin.iloc[:,-1]"
   ]
  },
  {
   "cell_type": "markdown",
   "id": "3e3a4d0e",
   "metadata": {},
   "source": [
    "##### LabelEncoding "
   ]
  },
  {
   "cell_type": "code",
   "execution_count": 18,
   "id": "c1e953d6",
   "metadata": {},
   "outputs": [],
   "source": [
    "from sklearn.preprocessing import LabelEncoder\n",
    "le=LabelEncoder()"
   ]
  },
  {
   "cell_type": "code",
   "execution_count": 19,
   "id": "3f04548a",
   "metadata": {},
   "outputs": [],
   "source": [
    "y=le.fit_transform(y)"
   ]
  },
  {
   "cell_type": "code",
   "execution_count": 20,
   "id": "e2672bce",
   "metadata": {},
   "outputs": [],
   "source": [
    "##splitting the data into train and test data"
   ]
  },
  {
   "cell_type": "code",
   "execution_count": 21,
   "id": "887be08b",
   "metadata": {},
   "outputs": [],
   "source": [
    "from sklearn.model_selection import train_test_split\n",
    "\n",
    "X_train, X_test, y_train, y_test = train_test_split(X, y, test_size=0.3, random_state=50)"
   ]
  },
  {
   "cell_type": "code",
   "execution_count": null,
   "id": "9b991ab1",
   "metadata": {},
   "outputs": [],
   "source": []
  },
  {
   "cell_type": "markdown",
   "id": "dccaaf91",
   "metadata": {},
   "source": [
    "#### Decision tree "
   ]
  },
  {
   "cell_type": "code",
   "execution_count": 22,
   "id": "4ef03933",
   "metadata": {},
   "outputs": [],
   "source": [
    "from sklearn.tree import DecisionTreeClassifier\n",
    "from sklearn import tree"
   ]
  },
  {
   "cell_type": "code",
   "execution_count": 23,
   "id": "91f964f0",
   "metadata": {},
   "outputs": [],
   "source": [
    "dtree=DecisionTreeClassifier(max_depth=5)"
   ]
  },
  {
   "cell_type": "code",
   "execution_count": 24,
   "id": "a99720f6",
   "metadata": {},
   "outputs": [
    {
     "data": {
      "text/plain": [
       "DecisionTreeClassifier(max_depth=5)"
      ]
     },
     "execution_count": 24,
     "metadata": {},
     "output_type": "execute_result"
    }
   ],
   "source": [
    "dtree.fit(X_train,y_train)"
   ]
  },
  {
   "cell_type": "markdown",
   "id": "1c13412c",
   "metadata": {},
   "source": [
    "###### Since there is only onetype of value in class variable "
   ]
  },
  {
   "cell_type": "code",
   "execution_count": 25,
   "id": "0b8999b2",
   "metadata": {},
   "outputs": [
    {
     "data": {
      "text/plain": [
       "[Text(0.5, 0.5, 'gini = 0.0\\nsamples = 1469832\\nvalue = 1469832.0')]"
      ]
     },
     "execution_count": 25,
     "metadata": {},
     "output_type": "execute_result"
    },
    {
     "data": {
      "image/png": "[encoded data removed]",
      "text/plain": [
       "<Figure size 360x360 with 1 Axes>"
      ]
     },
     "metadata": {
      "needs_background": "light"
     },
     "output_type": "display_data"
    }
   ],
   "source": [
    "import matplotlib.pyplot as plt\n",
    "plt.figure(figsize=(5,5))\n",
    "tree.plot_tree(dtree,filled=True)"
   ]
  },
  {
   "cell_type": "code",
   "execution_count": 26,
   "id": "f72c8166",
   "metadata": {},
   "outputs": [
    {
     "data": {
      "text/plain": [
       "array([0, 0, 0, ..., 0, 0, 0], dtype=int64)"
      ]
     },
     "execution_count": 26,
     "metadata": {},
     "output_type": "execute_result"
    }
   ],
   "source": [
    "pred=dtree.predict(X_test)\n",
    "pred"
   ]
  },
  {
   "cell_type": "markdown",
   "id": "5c28cb60",
   "metadata": {},
   "source": [
    "###### Accuracy "
   ]
  },
  {
   "cell_type": "code",
   "execution_count": 27,
   "id": "77d4abcc",
   "metadata": {},
   "outputs": [
    {
     "data": {
      "text/plain": [
       "1.0"
      ]
     },
     "execution_count": 27,
     "metadata": {},
     "output_type": "execute_result"
    }
   ],
   "source": [
    "from sklearn.metrics import accuracy_score\n",
    "accuracy_score(pred,y_test)"
   ]
  },
  {
   "cell_type": "code",
   "execution_count": 28,
   "id": "0825adeb",
   "metadata": {},
   "outputs": [],
   "source": [
    "# plt.figure(figsize=(15,10))\n",
    "# tree.plot_tree(dtree,filled=True);"
   ]
  },
  {
   "cell_type": "code",
   "execution_count": 29,
   "id": "09af5ba5",
   "metadata": {},
   "outputs": [
    {
     "name": "stdout",
     "output_type": "stream",
     "text": [
      "                   Timestamp  Open  High  Low  Close  Volume_(BTC)  \\\n",
      "Timestamp                1.0   NaN   NaN  NaN    NaN           NaN   \n",
      "Open                     NaN   NaN   NaN  NaN    NaN           NaN   \n",
      "High                     NaN   NaN   NaN  NaN    NaN           NaN   \n",
      "Low                      NaN   NaN   NaN  NaN    NaN           NaN   \n",
      "Close                    NaN   NaN   NaN  NaN    NaN           NaN   \n",
      "Volume_(BTC)             NaN   NaN   NaN  NaN    NaN           NaN   \n",
      "Volume_(Currency)        NaN   NaN   NaN  NaN    NaN           NaN   \n",
      "Weighted_Price           NaN   NaN   NaN  NaN    NaN           NaN   \n",
      "\n",
      "                   Volume_(Currency)  Weighted_Price  \n",
      "Timestamp                        NaN             NaN  \n",
      "Open                             NaN             NaN  \n",
      "High                             NaN             NaN  \n",
      "Low                              NaN             NaN  \n",
      "Close                            NaN             NaN  \n",
      "Volume_(BTC)                     NaN             NaN  \n",
      "Volume_(Currency)                NaN             NaN  \n",
      "Weighted_Price                   NaN             NaN  \n"
     ]
    },
    {
     "data": {
      "image/png": "[encoded data removed]",
      "text/plain": [
       "<Figure size 1080x360 with 2 Axes>"
      ]
     },
     "metadata": {
      "needs_background": "light"
     },
     "output_type": "display_data"
    }
   ],
   "source": [
    "import seaborn as sns\n",
    "corr=bit_coin.corr()\n",
    "print(round(corr,2))\n",
    "plt.figure(figsize=(15,5))\n",
    "sns.heatmap(corr,cmap=\"turbo\",annot=True)\n",
    "plt.show()"
   ]
  },
  {
   "cell_type": "code",
   "execution_count": null,
   "id": "808ef12d",
   "metadata": {},
   "outputs": [],
   "source": []
  }
 ],
 "metadata": {
  "kernelspec": {
   "display_name": "Python 3 (ipykernel)",
   "language": "python",
   "name": "python3"
  },
  "language_info": {
   "codemirror_mode": {
    "name": "ipython",
    "version": 3
   },
   "file_extension": ".py",
   "mimetype": "text/x-python",
   "name": "python",
   "nbconvert_exporter": "python",
   "pygments_lexer": "ipython3",
   "version": "3.9.12"
  }
 },
 "nbformat": 4,
 "nbformat_minor": 5
}
